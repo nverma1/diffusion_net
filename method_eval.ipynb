{
 "cells": [
  {
   "cell_type": "code",
   "execution_count": 1,
   "metadata": {},
   "outputs": [
    {
     "name": "stderr",
     "output_type": "stream",
     "text": [
      "Using TensorFlow backend.\n"
     ]
    }
   ],
   "source": [
    "import RunFullMap\n",
    "import numpy as np\n",
    "import scipy.linalg\n",
    "import keras.backend as K\n",
    "import tensorflow as tf\n",
    "import sklearn.manifold\n",
    "import sklearn.metrics\n",
    "\n",
    "import Diffusion as df\n",
    "import os.path\n",
    "from autoencoder import *\n",
    "\n",
    "import matplotlib.pyplot as plt\n",
    "from mpl_toolkits.mplot3d import Axes3D\n",
    "\n",
    "from keras.utils import np_utils\n",
    "from keras.layers import Dense, Input\n",
    "from keras.models import Model\n",
    "from keras import regularizers\n",
    "\n",
    "from polynomialcurve import PolynomialPointCurve\n",
    "import LaplacianEigenmaps\n",
    "\n",
    "\n"
   ]
  },
  {
   "cell_type": "code",
   "execution_count": 2,
   "metadata": {},
   "outputs": [],
   "source": [
    "# n = 3000\n",
    "# t = 2.01*np.pi*np.random.uniform(0,1,n)\n",
    "# x = np.cos(t)\n",
    "# y = np.sin(2*t)\n",
    "# z = np.sin(3*t)\n",
    "# orig_data = np.vstack([x,y,z])\n",
    "# orig_data = np.transpose(orig_data)\n",
    "\n",
    "# TRAIN_SAMPLES = 2000\n",
    "\n",
    "# train_data = orig_data[:TRAIN_SAMPLES]\n",
    "# eval_data = orig_data[TRAIN_SAMPLES:]\n",
    "\n",
    "# pred_net = RunFullMap.DiffusionNet(train_data, 2, embedding='laplacian')"
   ]
  },
  {
   "cell_type": "code",
   "execution_count": 3,
   "metadata": {},
   "outputs": [],
   "source": [
    "# res = pred_net.predict(eval_data)\n",
    "# fig = plt.figure(figsize=(10,5))\n",
    "# #a1 = fig.add_subplot(121)\n",
    "# #a1.scatter(z_test[:,0], z_test[:,1],c=t_test, cmap='gist_ncar')\n",
    "# #a1.set_aspect('equal')\n",
    "# #a1.set_title('eta=' +str(eta))\n",
    "\n",
    "# a2 = fig.add_subplot(122,projection='3d')\n",
    "# a2.scatter(eval_data[:,0], eval_data[:,1], eval_data[:,2], color='blue')\n",
    "# print(eval_data.shape)\n",
    "# print(res.shape)\n",
    "# a2.scatter(res[:,0], res[:,1], res[:,2], color='red', zorder=10)\n",
    "# #a2.set_title('eta=' +str(eta))\n",
    "# a2.set_aspect('equal')\n",
    "# plt.show()"
   ]
  },
  {
   "cell_type": "code",
   "execution_count": 4,
   "metadata": {},
   "outputs": [
    {
     "ename": "TypeError",
     "evalue": "unit_to_space() missing 1 required positional argument: 'space_size'",
     "output_type": "error",
     "traceback": [
      "\u001b[0;31m---------------------------------------------------------------------------\u001b[0m",
      "\u001b[0;31mTypeError\u001b[0m                                 Traceback (most recent call last)",
      "\u001b[0;32m<ipython-input-4-ca79ad8b6061>\u001b[0m in \u001b[0;36m<module>\u001b[0;34m\u001b[0m\n\u001b[1;32m      1\u001b[0m \u001b[0mpolycurve\u001b[0m \u001b[0;34m=\u001b[0m \u001b[0mPolynomialPointCurve\u001b[0m\u001b[0;34m(\u001b[0m\u001b[0;34m)\u001b[0m\u001b[0;34m\u001b[0m\u001b[0;34m\u001b[0m\u001b[0m\n\u001b[0;32m----> 2\u001b[0;31m \u001b[0mpolycurve\u001b[0m\u001b[0;34m.\u001b[0m\u001b[0mcompute_threshold\u001b[0m\u001b[0;34m(\u001b[0m\u001b[0;36m.001\u001b[0m\u001b[0;34m)\u001b[0m\u001b[0;34m\u001b[0m\u001b[0;34m\u001b[0m\u001b[0m\n\u001b[0m",
      "\u001b[0;32m~/Desktop/diffusion_net/polynomialcurve.py\u001b[0m in \u001b[0;36mcompute_threshold\u001b[0;34m(self, ratio, accuracy_coeff)\u001b[0m\n\u001b[1;32m     44\u001b[0m         \u001b[0mnum_pts\u001b[0m \u001b[0;34m=\u001b[0m \u001b[0mint\u001b[0m\u001b[0;34m(\u001b[0m\u001b[0maccuracy_coeff\u001b[0m \u001b[0;34m/\u001b[0m \u001b[0mratio\u001b[0m\u001b[0;34m)\u001b[0m\u001b[0;34m\u001b[0m\u001b[0;34m\u001b[0m\u001b[0m\n\u001b[1;32m     45\u001b[0m         \u001b[0msamples\u001b[0m \u001b[0;34m=\u001b[0m \u001b[0mnp\u001b[0m\u001b[0;34m.\u001b[0m\u001b[0mrandom\u001b[0m\u001b[0;34m.\u001b[0m\u001b[0muniform\u001b[0m\u001b[0;34m(\u001b[0m\u001b[0;34m-\u001b[0m\u001b[0mself\u001b[0m\u001b[0;34m.\u001b[0m\u001b[0mspace_size\u001b[0m\u001b[0;34m,\u001b[0m\u001b[0mself\u001b[0m\u001b[0;34m.\u001b[0m\u001b[0mspace_size\u001b[0m\u001b[0;34m,\u001b[0m\u001b[0;34m(\u001b[0m\u001b[0mnum_pts\u001b[0m\u001b[0;34m,\u001b[0m \u001b[0mself\u001b[0m\u001b[0;34m.\u001b[0m\u001b[0mdimension\u001b[0m\u001b[0;34m)\u001b[0m\u001b[0;34m)\u001b[0m\u001b[0;34m\u001b[0m\u001b[0;34m\u001b[0m\u001b[0m\n\u001b[0;32m---> 46\u001b[0;31m         \u001b[0mvals\u001b[0m \u001b[0;34m=\u001b[0m \u001b[0mself\u001b[0m\u001b[0;34m.\u001b[0m\u001b[0mcompute_values\u001b[0m\u001b[0;34m(\u001b[0m\u001b[0msamples\u001b[0m\u001b[0;34m)\u001b[0m\u001b[0;34m\u001b[0m\u001b[0;34m\u001b[0m\u001b[0m\n\u001b[0m\u001b[1;32m     47\u001b[0m         \u001b[0mself\u001b[0m\u001b[0;34m.\u001b[0m\u001b[0mthreshold\u001b[0m \u001b[0;34m=\u001b[0m \u001b[0mnp\u001b[0m\u001b[0;34m.\u001b[0m\u001b[0msort\u001b[0m\u001b[0;34m(\u001b[0m\u001b[0mvals\u001b[0m\u001b[0;34m)\u001b[0m\u001b[0;34m[\u001b[0m\u001b[0maccuracy_coeff\u001b[0m\u001b[0;34m]\u001b[0m\u001b[0;34m\u001b[0m\u001b[0;34m\u001b[0m\u001b[0m\n\u001b[1;32m     48\u001b[0m         \u001b[0;32mreturn\u001b[0m \u001b[0mself\u001b[0m\u001b[0;34m.\u001b[0m\u001b[0mthreshold\u001b[0m\u001b[0;34m\u001b[0m\u001b[0;34m\u001b[0m\u001b[0m\n",
      "\u001b[0;32m~/Desktop/diffusion_net/polynomialcurve.py\u001b[0m in \u001b[0;36mcompute_values\u001b[0;34m(self, points)\u001b[0m\n\u001b[1;32m     30\u001b[0m \u001b[0;34m\u001b[0m\u001b[0m\n\u001b[1;32m     31\u001b[0m     \u001b[0;32mdef\u001b[0m \u001b[0mcompute_values\u001b[0m\u001b[0;34m(\u001b[0m\u001b[0mself\u001b[0m\u001b[0;34m,\u001b[0m \u001b[0mpoints\u001b[0m\u001b[0;34m)\u001b[0m\u001b[0;34m:\u001b[0m \u001b[0;31m#Computes the polynomial on an input array of tuples. Input array should have dimensions (n_points, self.dimensions)\u001b[0m\u001b[0;34m\u001b[0m\u001b[0;34m\u001b[0m\u001b[0m\n\u001b[0;32m---> 32\u001b[0;31m         \u001b[0mpoints\u001b[0m \u001b[0;34m=\u001b[0m \u001b[0munit_to_space\u001b[0m\u001b[0;34m(\u001b[0m\u001b[0mpoints\u001b[0m\u001b[0;34m)\u001b[0m\u001b[0;34m\u001b[0m\u001b[0;34m\u001b[0m\u001b[0m\n\u001b[0m\u001b[1;32m     33\u001b[0m         \u001b[0mout_vals\u001b[0m \u001b[0;34m=\u001b[0m \u001b[0mnp\u001b[0m\u001b[0;34m.\u001b[0m\u001b[0mzeros\u001b[0m\u001b[0;34m(\u001b[0m\u001b[0mpoints\u001b[0m\u001b[0;34m.\u001b[0m\u001b[0mshape\u001b[0m\u001b[0;34m[\u001b[0m\u001b[0;36m0\u001b[0m\u001b[0;34m]\u001b[0m\u001b[0;34m)\u001b[0m\u001b[0;34m\u001b[0m\u001b[0;34m\u001b[0m\u001b[0m\n\u001b[1;32m     34\u001b[0m         \u001b[0;32mfor\u001b[0m \u001b[0mi\u001b[0m \u001b[0;32min\u001b[0m \u001b[0mrange\u001b[0m \u001b[0;34m(\u001b[0m\u001b[0mself\u001b[0m\u001b[0;34m.\u001b[0m\u001b[0mnum_terms\u001b[0m\u001b[0;34m)\u001b[0m\u001b[0;34m:\u001b[0m\u001b[0;34m\u001b[0m\u001b[0;34m\u001b[0m\u001b[0m\n",
      "\u001b[0;31mTypeError\u001b[0m: unit_to_space() missing 1 required positional argument: 'space_size'"
     ]
    }
   ],
   "source": [
    "polycurve = PolynomialPointCurve()\n",
    "polycurve.compute_threshold(.001)"
   ]
  },
  {
   "cell_type": "code",
   "execution_count": null,
   "metadata": {},
   "outputs": [],
   "source": [
    "data = polycurve.gen_noisy_points(3000)\n",
    "T_THRESH = 2000\n",
    "train = data[:T_THRESH]\n",
    "test = data[T_THRESH:]\n",
    "pred_net = RunFullMap.DiffusionNet(train, 2, embedding='normal')\n",
    "train_pred = pred_net.predict(train)\n",
    "test_pred = pred_net.predict(test)\n",
    "fig = plt.figure(figsize=(10,5))\n",
    "a1 = fig.add_subplot(121, projection='3d')\n",
    "a1.scatter(train[:,0], train[:,1],train[:,2], color='blue')\n",
    "a1.scatter(train_pred[:,0], train_pred[:,1],train_pred[:,2], color='blue')\n",
    "print (\"Train: Original error \" + str(polycurve.compute_error(train)) + \" , Test error \" + str(polycurve.compute_error(test_pred)))\n",
    "print (\"Test: Original error \" + str(polycurve.compute_error(test)) + \" , Test error \" + str(polycurve.compute_error(test_pred)))\n"
   ]
  }
 ],
 "metadata": {
  "kernelspec": {
   "display_name": "Python 3",
   "language": "python",
   "name": "python3"
  },
  "language_info": {
   "codemirror_mode": {
    "name": "ipython",
    "version": 3
   },
   "file_extension": ".py",
   "mimetype": "text/x-python",
   "name": "python",
   "nbconvert_exporter": "python",
   "pygments_lexer": "ipython3",
   "version": "3.7.3"
  }
 },
 "nbformat": 4,
 "nbformat_minor": 2
}
